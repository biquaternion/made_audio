{
 "cells": [
  {
   "cell_type": "markdown",
   "metadata": {
    "id": "mCy61esBajdm"
   },
   "source": [
    "# <center> Практические задания по цифровой обработке сигналов </center>\n",
    "# <center> Первая лабораторная работа </center>\n"
   ]
  },
  {
   "cell_type": "markdown",
   "metadata": {
    "id": "1jFW2Gpdajdr"
   },
   "source": [
    "В данной работе Вы познакомитесь с основными методами работы с аудиоданными в Python. Разбересь в том, как работает свертка, и примените пару интересных фильтров."
   ]
  },
  {
   "cell_type": "markdown",
   "metadata": {
    "id": "JQ-2C7Zdajdr"
   },
   "source": [
    "# Задание 1. Работа с аудиофайлами в Python (1 балл)"
   ]
  },
  {
   "cell_type": "markdown",
   "metadata": {
    "id": "A5Zhdv7sajds"
   },
   "source": [
    "## Теория\n",
    "\n",
    "Звук - это аналоговый сигнал. То есть он является непрерывным по времени и по значениям. Для того, чтобы работать со звуком на цифровом устройстве, надо преобразовать его в цифровое представление. Для этого надо разделить непрерывный сигнал на промежутки времени (дискретизация сигнала) и разбить непрерывные значения на интервалы (квантование сигнала). Выбраные параметры дискретизации и квантования сигнала напрямую влияют на качество цифрового сигнала. \n",
    "\n",
    "\n",
    "## Практика\n",
    "\n",
    "1. Что хранится в .wav файле? Как узнать параметры дискретизации и квантования .wav файла? \n",
    "\n",
    "2. Запишите аудиофайл со своим голосом. Загрузите его. Попробуйте поменять ему частоту дискретизации. Нарисуйте форму волны считанного файла. Воспроизведите полученные сигналы. При какой частоте дискретизации становится невозможно разобрать человеческую речь?   \n",
    "\n",
    "3. Чем .wav отличается от других кодеков, например .mp3 или .ogg?\n",
    "\n",
    "\n",
    "### Подсказка\n",
    "\n",
    "Записать цифровой сигнал можно при помощи, например, [Audacity](https://www.audacityteam.org) или [Adobe Audition](https://www.adobe.com/ru/products/audition.html). Для считывания файлов воспользуйтесь библиотекой [scipy](https://www.scipy.org) или [librosa](https://librosa.org/doc/latest/index.html). Для воспроизведения аудиофайла удобно использовать класс Audio из модуля IPython.display, а для отрисовки - matplotlib."
   ]
  },
  {
   "cell_type": "code",
   "execution_count": null,
   "metadata": {
    "id": "r7qaouaFajds"
   },
   "outputs": [],
   "source": [
    "import matplotlib.pyplot as plt \n",
    "import numpy as np\n",
    "%matplotlib inline"
   ]
  },
  {
   "cell_type": "code",
   "execution_count": null,
   "metadata": {
    "ExecuteTime": {
     "end_time": "2021-01-25T10:23:49.909497Z",
     "start_time": "2021-01-25T10:23:49.907091Z"
    },
    "id": "eMzZ4fe-ajds"
   },
   "outputs": [],
   "source": [
    "# YOUR CODE HERE\n",
    "import librosa\n",
    "from IPython.display import Audio, display\n",
    "import scipy\n",
    "from itertools import product"
   ]
  },
  {
   "cell_type": "code",
   "execution_count": null,
   "metadata": {
    "id": "L9o6DLafakfM"
   },
   "outputs": [],
   "source": [
    "# filename = librosa.example('nutcracker')\n",
    "filename = 'my_voice_001_raw.ogg'"
   ]
  },
  {
   "cell_type": "code",
   "execution_count": null,
   "metadata": {
    "id": "ngV-ue7TT7fR"
   },
   "outputs": [],
   "source": [
    "rec01_array, sr = librosa.load(filename)\n",
    "target_sample_rates = sr * np.linspace(0.025, 1.0, 20)\n",
    "print(target_sample_rates)\n",
    "target_sample_rates = target_sample_rates.astype(np.int32)\n",
    "resampled_rec01 = {tsr: librosa.resample(y=rec01_array, orig_sr=sr, target_sr=tsr) for tsr in target_sample_rates}"
   ]
  },
  {
   "cell_type": "code",
   "execution_count": null,
   "metadata": {
    "colab": {
     "base_uri": "https://localhost:8080/",
     "height": 311
    },
    "id": "YZmVqIZOhBN-",
    "outputId": "07a5ccc2-c6d7-44ad-939e-e0d03b46d0b2"
   },
   "outputs": [],
   "source": [
    "fig, axs = plt.subplots(nrows=2, ncols=2, sharex=True)\n",
    "axs[0][0].set_title('original')\n",
    "axs[0][0].plot(rec01_array)\n",
    "keys = list(resampled_rec01.keys())\n",
    "k = keys[0]\n",
    "axs[0][1].set_title(str(k))\n",
    "axs[0][1].plot(resampled_rec01[k])\n",
    "k = keys[1]\n",
    "axs[1][0].set_title(str(k))\n",
    "axs[1][0].plot(resampled_rec01[k])\n",
    "k = keys[2]\n",
    "axs[1][1].set_title(str(k))\n",
    "axs[1][1].plot(resampled_rec01[k])"
   ]
  },
  {
   "cell_type": "code",
   "execution_count": null,
   "metadata": {
    "colab": {
     "base_uri": "https://localhost:8080/",
     "height": 600
    },
    "id": "MFQXVORHmYHB",
    "outputId": "c0d5e006-2efb-4067-9ff4-f84719ea02fe"
   },
   "outputs": [],
   "source": [
    "display(Audio(data=rec01_array, rate=sr))\n",
    "for k in resampled_rec01:\n",
    "  print(k)\n",
    "  display(Audio(data=resampled_rec01[k], rate=k)) # play in original sampling rate"
   ]
  },
  {
   "cell_type": "markdown",
   "metadata": {
    "id": "q-6TPVZMajdt"
   },
   "source": [
    "1. -YOUR ANSWER HERE -  \n",
    "    В wav-файле находится оцифровка аудиосигнала в виде массива его значений в фиксированные моменты времени. Параметры дискретизации и квантования хранятся в заголовке wav-файла ![wav-sound-format.gif](data:image/gif;base64,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)\n",
    "2. -YOUR ANSWER HERE -  \n",
    "Не смог найти границу различимости. В случае моей записи при частоте дискретизации 3к/с голос неплохо различим. SR ниже - не воспроизводится средствами IPython Audio.\n",
    "3. -YOUR ANSWER HERE -  \n",
    "wav отличается от других кодеков тем, что данные хранятся в нём в несжатом виде в отличие от, например, .mp3 или .ogg"
   ]
  },
  {
   "cell_type": "markdown",
   "metadata": {
    "id": "1Ynz3RAqajdt"
   },
   "source": [
    "# Задание 2. Гармонические сигналы (1 балл)"
   ]
  },
  {
   "cell_type": "markdown",
   "metadata": {
    "id": "lr8hm1SQajdu"
   },
   "source": [
    "## Теория\n",
    "[Гармонические колебания](https://ru.wikipedia.org/wiki/Гармонические_колебания) -  колебания, при которых физическая величина изменяется с течением времени по гармоническому (синусоидальному/косинусоидальному) закону. \n",
    "\n",
    "В общем случае гармонические колебания задаются формулой:\n",
    "\n",
    "$$y=A \\cos(\\omega t+\\varphi_0)$$\n",
    "\n",
    "где $А$ - это амплитуда, $\\omega$ – циклическая частота (радиан/с), $\\varphi$ - фаза (сдвиг), $t$ – время. \n"
   ]
  },
  {
   "cell_type": "code",
   "execution_count": null,
   "metadata": {
    "ExecuteTime": {
     "end_time": "2021-01-25T10:53:42.877034Z",
     "start_time": "2021-01-25T10:53:42.461660Z"
    },
    "id": "a0YsT7Zaajdu"
   },
   "outputs": [],
   "source": [
    "# Сначала определим функцию для отрисовки сигнала с хорошим масштабом и сеткой\n",
    "# Это поможет легче анализировать сигнал\n",
    "def draw_signal(data, figsize=(14, 14)):\n",
    "    plt.figure(figsize=figsize)\n",
    "    plt.plot(data, linewidth=2)\n",
    "    plt.minorticks_on()\n",
    "    plt.xticks(np.arange(0, 1000, step=100))\n",
    "    plt.yticks(np.arange((data.min().round())//10*10, \n",
    "                         (data.max().round())//10*10+10, step=5))\n",
    "    plt.grid(which='major',\n",
    "        color = 'k', \n",
    "        linewidth = 1)\n",
    "    plt.grid(which='minor', \n",
    "        color = 'k', \n",
    "        linestyle = ':')\n",
    "    plt.show()"
   ]
  },
  {
   "cell_type": "code",
   "execution_count": null,
   "metadata": {
    "ExecuteTime": {
     "end_time": "2021-01-25T10:53:18.422257Z",
     "start_time": "2021-01-25T10:53:18.358676Z"
    },
    "id": "Y-uQZuAGajdv"
   },
   "outputs": [],
   "source": [
    "# Читаем данные с подготовленными сигналами\n",
    "import pickle\n",
    "with open(\"resources/data.pickle\", \"rb\") as f:\n",
    "    test_data = pickle.load(f)\n",
    "# Теперь можно приступать к практике!"
   ]
  },
  {
   "cell_type": "code",
   "execution_count": null,
   "metadata": {
    "id": "NdcPVK15q0cu"
   },
   "outputs": [],
   "source": []
  },
  {
   "cell_type": "markdown",
   "metadata": {
    "id": "uYIvsy7-ajdv"
   },
   "source": [
    "## Практика\n",
    "\n",
    "Постройте графики трех сигналов a, b и c из test_data['task2']. Попробуйте подобрать коэффициенты для этих сигналов. Сгенерируйте сигналы (1000 отсчетов) с подобранными коэффициентами. Постройте графики сгенерированных сигналов и пройдите тест на схожесть с оригинальным.\n",
    "\n",
    "\n",
    "Подсказка. Фаза, период и амплитуда сигнала - целочисленные. Для генерации пользуйтесь библиотекой numpy и функциями arange, sin, cos."
   ]
  },
  {
   "cell_type": "code",
   "execution_count": null,
   "metadata": {
    "colab": {
     "base_uri": "https://localhost:8080/",
     "height": 809
    },
    "id": "qPu2f3QMajdv",
    "outputId": "199f8943-fd7a-4631-d410-eb12a50c6714"
   },
   "outputs": [],
   "source": [
    "draw_signal(test_data['task2']['a'])"
   ]
  },
  {
   "cell_type": "code",
   "execution_count": null,
   "metadata": {
    "id": "Gt8mI9nMajdw"
   },
   "outputs": [],
   "source": [
    "# YOUR CODE HERE\n",
    "a = 45 * np.cos(2 * np.pi / 425.425 * np.linspace(0, 1000, 1000))"
   ]
  },
  {
   "cell_type": "code",
   "execution_count": null,
   "metadata": {
    "colab": {
     "base_uri": "https://localhost:8080/",
     "height": 809
    },
    "id": "dHROauUIajdw",
    "outputId": "719b4b00-ffed-4d0a-e6d1-785f4df39428"
   },
   "outputs": [],
   "source": [
    "draw_signal(a)"
   ]
  },
  {
   "cell_type": "code",
   "execution_count": null,
   "metadata": {
    "colab": {
     "base_uri": "https://localhost:8080/"
    },
    "id": "nfpBdvfvajdw",
    "outputId": "7bada73e-329c-48f6-fadd-fb8a5323c9f1"
   },
   "outputs": [],
   "source": [
    "assert len(a) == 1000\n",
    "assert np.allclose(a, test_data[\"task2\"][\"a\"], atol=1)\n",
    "print(\"Ok!\")"
   ]
  },
  {
   "cell_type": "code",
   "execution_count": null,
   "metadata": {
    "colab": {
     "base_uri": "https://localhost:8080/",
     "height": 813
    },
    "id": "ZvcKz1a5ajdw",
    "outputId": "6682d503-006d-49a5-bce6-cb200cf1142c"
   },
   "outputs": [],
   "source": [
    "draw_signal(test_data['task2']['b'])"
   ]
  },
  {
   "cell_type": "code",
   "execution_count": null,
   "metadata": {
    "id": "tHThFy5Tajdw"
   },
   "outputs": [],
   "source": [
    "# YOUR CODE HERE\n",
    "b = 50 * np.sin(2 * np.pi / 100.1 * np.linspace(0, 1000, 1000))"
   ]
  },
  {
   "cell_type": "code",
   "execution_count": null,
   "metadata": {
    "colab": {
     "base_uri": "https://localhost:8080/"
    },
    "id": "Waq6Ajp4ajdx",
    "outputId": "65f05db7-d38f-4d55-d6ad-04e832c28d2f"
   },
   "outputs": [],
   "source": [
    "assert len(b)== 1000\n",
    "assert np.allclose(b, test_data[\"task2\"][\"b\"], atol=1)\n",
    "print(\"Ok!\")"
   ]
  },
  {
   "cell_type": "code",
   "execution_count": null,
   "metadata": {
    "colab": {
     "base_uri": "https://localhost:8080/",
     "height": 809
    },
    "id": "LFU3Tu1Eajdx",
    "outputId": "8b8dbd55-825a-46f3-ed19-651c265f0bd0"
   },
   "outputs": [],
   "source": [
    "draw_signal(test_data['task2']['c'])"
   ]
  },
  {
   "cell_type": "code",
   "execution_count": null,
   "metadata": {
    "id": "Q0ULvqsaajdx"
   },
   "outputs": [],
   "source": [
    "# сигнал состоит из двух гармоник\n",
    "# YOUR CODE HERE\n",
    "c = a - b # the same as 45 * np.cos(2 * np.pi / 425.425 * np.linspace(0, 1000, 1000)) - 50 * np.sin(2 * np.pi / 100.1 * np.linspace(0, 1000, 1000))"
   ]
  },
  {
   "cell_type": "code",
   "execution_count": null,
   "metadata": {
    "colab": {
     "base_uri": "https://localhost:8080/"
    },
    "id": "Ul50Ig1Uajdx",
    "outputId": "55c15004-02c8-4bd6-ec87-1c1fae7c8a29"
   },
   "outputs": [],
   "source": [
    "assert len(c)== 1000\n",
    "assert np.allclose(c, test_data[\"task2\"][\"c\"], atol=1)\n",
    "print(\"Ok!\")"
   ]
  },
  {
   "cell_type": "markdown",
   "metadata": {
    "id": "b_IoUadMajdx"
   },
   "source": [
    "# Задание 3. Свертка (3 балла)"
   ]
  },
  {
   "cell_type": "markdown",
   "metadata": {
    "id": "ZwOI3F0najdy"
   },
   "source": [
    "## Теория\n",
    "Одна из наиболее частых операций, которая выполняется при обработке сигналов, это свёртка. Свёртка имеет много различных применений, например, с ее помощью можно убрать из сигнала шумы или применить к сигналу эффект эхо.\n",
    "\n",
    "\n",
    "Свёртка — это математическая операция, применённая к двум функциям f и g и порождающая третью функцию. Операцию свёртки можно интерпретировать как «схожесть» одной функции с отражённой и сдвинутой копией другой.  Другими словами, преобразование свёртки однозначно определяет выходной сигнал y(t) для установленного значения входного сигнала x(t) при известном значении функции импульсного отклика системы h(t).\n",
    "\n",
    "![Convolution](resources/Convolution_of_box_signal_with_itself2.gif \"Convolution\")\n",
    "\n",
    "Формула свёртки:\n",
    "$$y_t=\\frac{1}{2} \\int_0^T x(\\tau)h(t-τ)dτ$$\n",
    "где $\\tau$  - длительность импульсной переходной характеристики.\n",
    "\n",
    "## Практика\n",
    "Реализуйте операцию свёртки. Сравните её с существующей реализацией scipy.signal.convolve. Постройте графики фильтра, исходного сигнала и результата свертки."
   ]
  },
  {
   "cell_type": "code",
   "execution_count": null,
   "metadata": {
    "id": "ZbAddownajdy"
   },
   "outputs": [],
   "source": [
    "def convolve(in1, in2):\n",
    "    #YOUR CODE HERE\n",
    "    if len(in1) > len(in2):\n",
    "      lng, sht = in1, in2\n",
    "    else:\n",
    "      lng, sht = in2, in1\n",
    "    pad_width = len(sht) // 2\n",
    "    lng = np.pad(lng, (pad_width, pad_width))\n",
    "    if pad_width == len(sht) / 2:\n",
    "      lng = lng[1:]\n",
    "    result = np.zeros_like(lng)\n",
    "    for i in range(len(lng) - len(sht)):\n",
    "      result[i + pad_width] = np.sum(np.multiply(sht, lng[i: i + len(sht)]))\n",
    "    return result"
   ]
  },
  {
   "cell_type": "code",
   "execution_count": null,
   "metadata": {
    "id": "8XMxPxleajdy"
   },
   "outputs": [],
   "source": [
    "def test_convolve(a, b, print_debug=False):\n",
    "    my_result = convolve(a, b)\n",
    "    scipy_result = scipy.signal.convolve(a, b, method='direct')\n",
    "    if print_debug:\n",
    "        print(f\"Your result {my_result}\")\n",
    "        print(f\"Scipy result {scipy_result}\")\n",
    "    assert np.allclose(my_result, scipy_result), f\"Test {a} conv {b} failed\"\n",
    "    print(\"Ok!\")"
   ]
  },
  {
   "cell_type": "code",
   "execution_count": null,
   "metadata": {
    "id": "8oYHX1KJajdy"
   },
   "outputs": [],
   "source": [
    "a = np.repeat([0,1,0], 10)\n",
    "b = np.array([0,1,2,3,2,1,0])"
   ]
  },
  {
   "cell_type": "code",
   "execution_count": null,
   "metadata": {
    "colab": {
     "base_uri": "https://localhost:8080/",
     "height": 282
    },
    "id": "9IIrahMKajdy",
    "outputId": "aa5c01d4-bfd4-4353-808e-0f6540201e25"
   },
   "outputs": [],
   "source": [
    "# Нарисуйте результат свертки a и b\n",
    "# YOUR CODE HERE\n",
    "fig, ax = plt.subplots(3, sharex=True)\n",
    "ax[0].plot(convolve(a, b)[len(b) // 2:])\n",
    "ax[1].plot(a)\n",
    "ax[2].plot(b)"
   ]
  },
  {
   "cell_type": "code",
   "execution_count": null,
   "metadata": {
    "colab": {
     "base_uri": "https://localhost:8080/"
    },
    "id": "fm5weHBgajdz",
    "outputId": "8535c37e-66e1-4afb-c926-4079b611a93d"
   },
   "outputs": [],
   "source": [
    "test_convolve(a, b, print_debug=True)"
   ]
  },
  {
   "cell_type": "markdown",
   "metadata": {
    "id": "2RytTFuVajdz"
   },
   "source": [
    "## Задание 4. * Алгоритм Карплуса-Стронга \n",
    "\n",
    "Реализуйте  [Алгоритм Карплуса-Стронга](https://en.wikipedia.org/wiki/Karplus%E2%80%93Strong_string_synthesis). В качестве фильтра используйте усреднитель двух смежных отсчетов. Проверьте результат. \n",
    "\n",
    "Отрисуйте и воспроизведите полученный сигнал. На что влияют параметры генерации? Попробуйте имитировать звучание разных струн гитары."
   ]
  },
  {
   "cell_type": "code",
   "execution_count": null,
   "metadata": {
    "ExecuteTime": {
     "end_time": "2021-01-25T08:33:08.782753Z",
     "start_time": "2021-01-25T08:33:08.777957Z"
    },
    "id": "5i2SsWPwajdz"
   },
   "outputs": [],
   "source": [
    "def karplus_strong(noise, N):\n",
    "    # Noise - input\n",
    "    # N - number of samples to generate\n",
    "    # return y - generated signal based on Noise \n",
    "    # YOUR CODE HERE\n",
    "    #\n",
    "    src = np.pad(noise, (0, int(N)))\n",
    "    for i in range(len(noise), len(src)):\n",
    "      src[i] = (src[i - len(noise)] + src[i - len(noise) - 1]) * 0.5\n",
    "    return src\n",
    "    #\n",
    "    # raise NotImplementedError()"
   ]
  },
  {
   "cell_type": "code",
   "execution_count": null,
   "metadata": {
    "ExecuteTime": {
     "end_time": "2021-01-25T10:07:15.153526Z",
     "start_time": "2021-01-25T10:07:15.052187Z"
    },
    "colab": {
     "base_uri": "https://localhost:8080/"
    },
    "id": "92WVglRcajdz",
    "outputId": "cc06764e-4db9-425a-9c5e-2f07026a9b82"
   },
   "outputs": [],
   "source": [
    "np.random.seed(seed=1)\n",
    "sample_rate = 44100 \n",
    "frequency = 82.41\n",
    "sec = 2\n",
    "gen_len = sample_rate * sec\n",
    "noise = (2 * np.random.uniform(-1, 1, int(sample_rate/frequency))) # [-1, 1]\n",
    "\n",
    "gen_wav = karplus_strong(noise, gen_len)\n",
    "assert np.allclose(gen_wav[:len(noise)], noise), \"Generated signal must starting with noise\"\n",
    "assert np.allclose(gen_wav[len(noise)], (noise[0])/2), \"Out of range samples eq 0.\"\n",
    "assert np.allclose(gen_wav[len(noise)+1: 2*len(noise)], (noise[:-1] + noise[1:])/2), \\\n",
    "    \"Bad requrent rule( 1 iteration)\"\n",
    "assert np.allclose(gen_wav[2*len(noise)], (noise[0]/2 + noise[-1])/2), \\\n",
    "    \"Bad requrent rule( 2 iteration)\"\n",
    "assert np.allclose(gen_wav[2*len(noise)+2: 3*len(noise)], \\\n",
    "                   (((noise[:-1] + noise[1:])/2)[:-1] + ((noise[:-1] + noise[1:])/2)[1:])/2), \\\n",
    "    \"Bad requrent rule( 3 iteration)\"\n",
    "print('All Ok!')"
   ]
  },
  {
   "cell_type": "code",
   "execution_count": null,
   "metadata": {
    "id": "CPNr3RJCajdz"
   },
   "outputs": [],
   "source": [
    "# Попробуйте покрутить параметры генерации. \n",
    "# YOUR CODE HERE \n",
    "def gen_note(sample_rate=22100, frequency=82.41, sec=3, pause=False):\n",
    "  gen_len = int(sample_rate * sec)\n",
    "  if pause:\n",
    "    return np.zeros(gen_len)\n",
    "  noise = (2 * np.random.uniform(-1, 1, int(sample_rate / frequency)))\n",
    "  gen_wav = karplus_strong(noise=noise, N=gen_len)\n",
    "  return gen_wav"
   ]
  },
  {
   "cell_type": "code",
   "execution_count": null,
   "metadata": {
    "id": "g6stpDD0Rz6c"
   },
   "outputs": [],
   "source": [
    "c2 = 65.41 # До большой октавы\n",
    "\n",
    "octaves = [_ for _ in range(4)]\n",
    "notes = ['c', 'cs', 'd', 'ds', 'e', 'f', 'fs', 'g', 'gs', 'a', 'as', 'b']\n",
    "notes_freq = {n + str(o + 2): c2 * 2 ** (i / 12) for i, (o, n) in enumerate(product(octaves, notes))}"
   ]
  },
  {
   "cell_type": "code",
   "execution_count": null,
   "metadata": {
    "id": "2zlL43f9TRJC"
   },
   "outputs": [],
   "source": [
    "def notes_pipe(sample_rate=44100, seq=None):\n",
    "  result = np.zeros(1)\n",
    "  if seq is None:\n",
    "    return result\n",
    "  for chord in seq:\n",
    "    chord_sorted_by_len = sorted(chord, key=lambda x: x[1], reverse=True)\n",
    "    tmp = None\n",
    "    for n in chord_sorted_by_len:\n",
    "      if n[0] == 'p':\n",
    "        tmp = gen_note(sample_rate=sample_rate, sec=n[1], pause=True)\n",
    "      else:\n",
    "        if tmp is None:\n",
    "          tmp = gen_note(sample_rate=sample_rate, frequency=notes_freq[n[0]], sec=n[1])\n",
    "        else:\n",
    "          new_note = gen_note(sample_rate=sample_rate, frequency=notes_freq[n[0]], sec=n[1])\n",
    "          tmp += np.pad(new_note, (0, len(tmp) - len(new_note)))\n",
    "    result = np.concatenate((result, tmp))\n",
    "  return result"
   ]
  },
  {
   "cell_type": "code",
   "execution_count": null,
   "metadata": {
    "colab": {
     "base_uri": "https://localhost:8080/"
    },
    "id": "tsqfOG3nPEJO",
    "outputId": "4320dfaf-4bc3-4337-ae0e-69c21c9c84b3"
   },
   "outputs": [],
   "source": [
    "smoke_on_the_water_seq = [[('d3', 0.4), ('g3', 0.4)], [('p', 0.1)], [('f3', 0.4), ('as3', 0.4)], [('p', 0.1)], [('g3', 0.65), ('c4', 0.65)], [('p', 0.1)],\n",
    "                          [('d3', 0.25), ('g3', 0.25)], [('p', 0.25)], [('f3', 0.25), ('as3', 0.25)], [('p', 0.25)], [('gs3', 0.25), ('cs4', 0.25)], [('g3', 0.9), ('c4', 0.9)], [('p', 0.25)],\n",
    "                          [('d3', 0.4), ('g3', 0.4)], [('p', 0.1)], [('f3', 0.4), ('as3', 0.4)], [('p', 0.1)], [('g3', 0.65), ('c4', 0.65)], [('p', 0.1)],\n",
    "                          [('f3', 0.25), ('as3', 0.25)], [('p', 0.25)], [('d3', 1.5), ('g3', 1.5)]]\n",
    "smoke_on_the_water = notes_pipe(seq=smoke_on_the_water_seq)"
   ]
  },
  {
   "cell_type": "code",
   "execution_count": null,
   "metadata": {
    "colab": {
     "base_uri": "https://localhost:8080/",
     "height": 75
    },
    "id": "KBWZSOONR8Oe",
    "outputId": "16664084-a9e1-4b06-ad9a-7c6ea302e254"
   },
   "outputs": [],
   "source": [
    "display(Audio(smoke_on_the_water, rate=44100))"
   ]
  },
  {
   "cell_type": "code",
   "execution_count": null,
   "metadata": {
    "id": "FIYfqvF4YSET"
   },
   "outputs": [],
   "source": []
  }
 ],
 "metadata": {
  "colab": {
   "collapsed_sections": [
    "mCy61esBajdm",
    "JQ-2C7Zdajdr",
    "A5Zhdv7sajds",
    "1Ynz3RAqajdt",
    "lr8hm1SQajdu",
    "uYIvsy7-ajdv",
    "ZwOI3F0najdy"
   ],
   "name": "Копия блокнота \"lab1.ipynb\"",
   "provenance": []
  },
  "kernelspec": {
   "display_name": "Python 3",
   "language": "python",
   "name": "python3"
  },
  "language_info": {
   "codemirror_mode": {
    "name": "ipython",
    "version": 3
   },
   "file_extension": ".py",
   "mimetype": "text/x-python",
   "name": "python",
   "nbconvert_exporter": "python",
   "pygments_lexer": "ipython3",
   "version": "3.8.3"
  }
 },
 "nbformat": 4,
 "nbformat_minor": 1
}
