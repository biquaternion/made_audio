{
 "cells": [
  {
   "cell_type": "markdown",
   "metadata": {
    "id": "v9CbWmijakPg"
   },
   "source": [
    "# <center> Практические задания по цифровой обработке сигналов </center>\n",
    "# <center> Вторая лабораторная работа </center>\n",
    "# <center> Анализ сигналов </center>"
   ]
  },
  {
   "cell_type": "code",
   "execution_count": null,
   "metadata": {
    "id": "mFDG9FMVENc6"
   },
   "outputs": [],
   "source": [
    "import librosa\n",
    "import numpy as np\n",
    "import scipy \n",
    "import scipy.fft\n",
    "import IPython.display as ipd\n",
    "import matplotlib.pyplot as plt\n",
    "import librosa.display\n",
    "import librosa.filters\n",
    "import hashlib\n",
    "\n",
    "# Запретим numpy выполнять деление на 0\n",
    "np.seterr(divide='raise', invalid='raise') \n",
    "%matplotlib inline"
   ]
  },
  {
   "cell_type": "code",
   "execution_count": null,
   "metadata": {
    "id": "d7brKIsnakPi"
   },
   "outputs": [],
   "source": [
    "# Определим две функции для отрисовки сигнала. \n",
    "def draw_waveform(wav, sr, figsize=(14, 5)):\n",
    "    # Отрисовка звукового сигнала во временной области\n",
    "    plt.figure(figsize=figsize)\n",
    "    librosa.display.waveplot(wav, sr=sr)\n",
    "\n",
    "def draw_sig(frames, name=None, figsize=(14, 3)):\n",
    "    # Отрисовка сигнала в виде \"леденцов на палочке\"\n",
    "    plt.figure(figsize=figsize)\n",
    "    plt.stem(frames)\n",
    "    if name is not None:\n",
    "        plt.legend([name])\n",
    "    plt.xlabel(\"n\")\n",
    "    plt.ylabel(\"Energy\")\n",
    "    plt.show()\n",
    "    "
   ]
  },
  {
   "cell_type": "code",
   "execution_count": null,
   "metadata": {
    "id": "aAo7C2qYakPj"
   },
   "outputs": [],
   "source": [
    "# Создадим несколько простых сигналов. Они нам понадобятся для дальшейшего тестирования\n",
    "signals = {}"
   ]
  },
  {
   "cell_type": "code",
   "execution_count": null,
   "metadata": {
    "colab": {
     "base_uri": "https://localhost:8080/",
     "height": 274
    },
    "id": "lfwHaMgeKTET",
    "outputId": "3a0b1bc8-e163-4845-b1a9-fa013b7a61b8"
   },
   "outputs": [],
   "source": [
    "name = \"Единичный импульс\"\n",
    "signals[name] = np.array([1] + [0]*39, dtype=float)\n",
    "draw_sig(signals[name], name)"
   ]
  },
  {
   "cell_type": "code",
   "execution_count": null,
   "metadata": {
    "colab": {
     "base_uri": "https://localhost:8080/",
     "height": 274
    },
    "id": "V4pGnk7KakPj",
    "outputId": "28683788-fd94-4215-823d-e44bc10c9fb1"
   },
   "outputs": [],
   "source": [
    "name = \"Единичный скачок\"\n",
    "signals[name] = np.array([1]*40 ,dtype=float) \n",
    "draw_sig(signals[name], name)"
   ]
  },
  {
   "cell_type": "code",
   "execution_count": null,
   "metadata": {
    "colab": {
     "base_uri": "https://localhost:8080/",
     "height": 272
    },
    "id": "a9DJTsytakPj",
    "outputId": "a6f45b72-74dc-465d-a756-84eb122b8aad"
   },
   "outputs": [],
   "source": [
    "name = \"Синус\"\n",
    "signals[name] = np.sin(np.pi * np.arange(40)/10)\n",
    "draw_sig(signals[name], name)"
   ]
  },
  {
   "cell_type": "code",
   "execution_count": null,
   "metadata": {
    "colab": {
     "base_uri": "https://localhost:8080/",
     "height": 272
    },
    "id": "btgqb_82akPk",
    "outputId": "9645b2cc-2295-4d7e-e391-f529509c96de"
   },
   "outputs": [],
   "source": [
    "name = \"Шум\"\n",
    "signals[name] = np.random.random(40)-0.5\n",
    "draw_sig(signals[name], name)"
   ]
  },
  {
   "cell_type": "markdown",
   "metadata": {
    "id": "jjoFFHBHGSA9"
   },
   "source": [
    "-------------------------------\n",
    "# Преобразование Фурье\n",
    "Прежде, чем перейти к анализу сигналов, надо разобраться, что такое преобразование Фурье. \n",
    "> Преобразование Фурье (символ ℱ) — операция, сопоставляющая одной функции вещественной переменной другую функцию вещественной переменной. Эта новая функция описывает коэффициенты («амплитуды») при разложении исходной функции на элементарные составляющие — гармонические колебания с разными частотами (подобно тому, как музыкальный аккорд может быть выражен в виде суммы музыкальных звуков, которые его составляют). [Wiki](https://ru.wikipedia.org/wiki/%D0%9F%D1%80%D0%B5%D0%BE%D0%B1%D1%80%D0%B0%D0%B7%D0%BE%D0%B2%D0%B0%D0%BD%D0%B8%D0%B5_%D0%A4%D1%83%D1%80%D1%8C%D0%B5)\n",
    "\n"
   ]
  },
  {
   "cell_type": "markdown",
   "metadata": {
    "id": "LdB7XWDzJdEl"
   },
   "source": [
    "Формула прямого дискретного преобразования Фурье (ДПФ, Discrete Fourier Transform, DFT)):\n",
    "$$ X_k = \\sum_{n=0}^{N-1} x_n * e^{2i\\pi k n/N} $$\n"
   ]
  },
  {
   "cell_type": "markdown",
   "metadata": {
    "id": "jiYYskk5akPk"
   },
   "source": [
    "# Задание 1 (2 балла)\n",
    "Реализовать дискретное преобразование Фурье. Сравнить с реализацией scipy.fft.fft"
   ]
  },
  {
   "cell_type": "code",
   "execution_count": null,
   "metadata": {
    "id": "0g99XrYxE6Q_"
   },
   "outputs": [],
   "source": [
    "def DFT(x):\n",
    "    # YOUR CODE HERE\n",
    "    n = np.arange(len(x))\n",
    "    k = n.reshape((len(x), 1))\n",
    "    return np.dot(x, np.exp(-2j * np.pi * n * k / len(x)))\n",
    "    #\n",
    "    # raise NotImplementedError()\n"
   ]
  },
  {
   "cell_type": "code",
   "execution_count": null,
   "metadata": {
    "colab": {
     "base_uri": "https://localhost:8080/"
    },
    "id": "H6hcW51qakPl",
    "outputId": "cd532ea0-3bc2-40a2-c6aa-6c3a89285775"
   },
   "outputs": [],
   "source": [
    "def test_DTF(x, transform=DFT):\n",
    "    # Сравнение с библиотекой scipy\n",
    "    scipy_result = scipy.fft.fft(x)\n",
    "    curr_result = transform(x)\n",
    "    if scipy_result.shape != curr_result.shape:\n",
    "        print(\"TEST_FAILED\")\n",
    "        print(f\"Your spectrogram shape is {curr_result.shape}. \"\n",
    "              f\"Scipy spectrogram shape is {scipy_result.shape}\")\n",
    "        return -1\n",
    "    if not np.allclose(curr_result, scipy_result):\n",
    "        print(\"TEST FAILED\")\n",
    "        print(f\"scipy spectrogram: {scipy_result}\")\n",
    "        print(f\"Your DTF spectrogram: {curr_result}\")\n",
    "        print(f\"Average diff is {np.mean(np.abs(scipy_result - curr_result))}\")\n",
    "        return -2\n",
    "    print(\"TEST PASSED\")\n",
    "    return 0\n",
    "\n",
    "for name, sig in signals.items():\n",
    "    print(f\"Checking '{name}'\")\n",
    "    assert test_DTF(sig) == 0, \"Check you implementation\"\n",
    "print(\"All ok!\")"
   ]
  },
  {
   "cell_type": "markdown",
   "metadata": {
    "id": "_1dHfsygakPl"
   },
   "source": [
    "Класическое ДПФ имеет существенный недостаток - сложность алгоритма $O(N^2)$. На данный момент существуют чуть более сложные реализации преобразования Фурье, которые избавляются от квадратичной сложности. Например, алгоритм быстрого преобразования Фурье (Fast Fourier Transform, FFT) имеет сложность $O(N log(N))$, что делает его значительно более быстрым на длинных последовательностях. "
   ]
  },
  {
   "cell_type": "markdown",
   "metadata": {
    "id": "CFELpwEnakPl"
   },
   "source": [
    "# Задание 1.1* (1 балл)\n",
    "Реализовать быстрое преобразование Фурье. Сравнить с scipy.fft.fft"
   ]
  },
  {
   "cell_type": "code",
   "execution_count": null,
   "metadata": {
    "id": "iH07AAZkakPm"
   },
   "outputs": [],
   "source": [
    "def FFT(x):\n",
    "    # YOUR CODE HERE\n",
    "    if len(x) % 2 > 0:\n",
    "      np.pad(x, int(2 ** (np.log2(len(x)) + 1) - len(x)))\n",
    "    if (len(x) <= 32):\n",
    "      return DFT(x)\n",
    "    y_ = FFT(x[::2])\n",
    "    z_ = FFT(x[1::2])\n",
    "    k = np.exp(-2j * np.pi * np.arange(len(x)) / len(x))\n",
    "    return np.concatenate([y_ + k[:(len(x) // 2)] * z_,\n",
    "                           y_ + k[(len(x) // 2):] * z_])\n",
    "    #\n",
    "    raise NotImplementedError()"
   ]
  },
  {
   "cell_type": "code",
   "execution_count": null,
   "metadata": {
    "colab": {
     "base_uri": "https://localhost:8080/"
    },
    "id": "LYgFMDH-akPm",
    "outputId": "d29f91e5-2f24-4bcd-d7ce-7a270ea5eb8a"
   },
   "outputs": [],
   "source": [
    "for name, sig in signals.items():\n",
    "    print(f\"Checking '{name}'\")\n",
    "    assert test_DTF(sig, transform=FFT) == 0, \"Check you implementation\"\n",
    "print(\"All ok!\")"
   ]
  },
  {
   "cell_type": "markdown",
   "metadata": {
    "id": "N6moGhQBakPm"
   },
   "source": [
    "# Амплитудный и фазовый спектры\n",
    "Поскольку преобразование Фурье определено в комплекстной области, анализировать результат напрямую проблематично. Для анализа сигналов принято разбивать результат преобразования Фурье на два спектра: амплитудный и фазовый. Амплитудный показывает, как меняется модуль сигнала, а фазовый - как меняется угол, образуемый на комплексной плоскости. \n",
    "# Задание 2 (1 балл)\n",
    "\n",
    "Реализовать функции построения амплитудного и фазового спектра"
   ]
  },
  {
   "cell_type": "code",
   "execution_count": null,
   "metadata": {
    "id": "qNrMWe2XakPm"
   },
   "outputs": [],
   "source": [
    "#функция построения амплитудного спектра\n",
    "def get_amplitude_from_spec(spec):\n",
    "    # YOUR CODE HERE\n",
    "    return np.absolute(spec)\n",
    "    #\n",
    "    raise NotImplementedError()\n",
    "\n",
    "#функция построения фазового спектра\n",
    "def get_phi_from_spec(spec):\n",
    "    # YOUR CODE HERE\n",
    "    return np.angle(spec)\n",
    "    #\n",
    "    raise NotImplementedError()"
   ]
  },
  {
   "cell_type": "code",
   "execution_count": null,
   "metadata": {
    "colab": {
     "base_uri": "https://localhost:8080/"
    },
    "id": "JJL8WQMvakPn",
    "outputId": "44ff5138-d050-4fe3-ea73-0685f14f2226"
   },
   "outputs": [],
   "source": [
    "def check_mean_var(sig, mean=None, var=None):\n",
    "    if mean is not None and np.mean(sig) != mean:\n",
    "        print(f\"Bad mean. Expected {mean}, got {np.mean(sig)}\")\n",
    "        return False\n",
    "    if var is not None and np.var(sig) != var:\n",
    "        print(f\"Bad var. Expected {var}, got {np.var(sig)}\")\n",
    "        return False\n",
    "    return True\n",
    "\n",
    "_spec = scipy.fft.fft(np.array([1]+[0]*10))\n",
    "assert check_mean_var(get_amplitude_from_spec(_spec), 1.0, 0.0), \\\n",
    "    \"Wrong Amplitude\"\n",
    "assert check_mean_var(get_phi_from_spec(_spec), 0.0, 0.0), \\\n",
    "    \"Wrong Phase\"\n",
    "\n",
    "    \n",
    "_spec = scipy.fft.fft(np.array([1]*10))\n",
    "assert check_mean_var(get_amplitude_from_spec(_spec), 1.0, 9.0), \\\n",
    "    \"Wrong  Amplitude\"\n",
    "assert get_amplitude_from_spec(_spec)[0] == 10, \\\n",
    "    \"Wrong Amplitude\"\n",
    "assert get_phi_from_spec(_spec)[0] == 0, \\\n",
    "    \"Wrong phase\"\n",
    "\n",
    "_spec = scipy.fft.fft(scipy.fft.ifft(np.array([0] + [10+5j]+[0]*6 + [10-5j])))\n",
    "assert get_amplitude_from_spec(_spec).round(1)[1] == 11.2 , \\\n",
    "    \"Wrong Amplitude. Make sure it is a complex number module.\"\n",
    "assert get_phi_from_spec(_spec).round(1)[1] == 0.5 , \\\n",
    "    \"Wrong Amplitude. Make sure it is an angle.\"\n",
    "\n",
    "   \n",
    "print(\"All OK!\")"
   ]
  },
  {
   "cell_type": "code",
   "execution_count": null,
   "metadata": {
    "id": "hgH8_kqBakPn"
   },
   "outputs": [],
   "source": [
    "# Определим еще одну функцию для отрисовки\n",
    "# Теперь будем рисовать сигнал в частотной области\n",
    "def draw_spec(spec, name=None, draw_A=True, draw_p=True, figsize=(14, 3)):\n",
    "    if len(spec)<100:\n",
    "        # Рисуем точки как \"леденцы на палочках\"\n",
    "        draw_func = plt.stem\n",
    "    else:\n",
    "        # При большом N \"леденцы\" выглядят плохо, \n",
    "        # Поэтому будем рисовать огибающую функцию\n",
    "        draw_func = plt.plot\n",
    "    \n",
    "    if draw_A:\n",
    "        plt.figure(figsize=figsize)\n",
    "        plt.title(\"Amplitude spectrum\")\n",
    "        spec_A = get_amplitude_from_spec(spec)\n",
    "        draw_func(spec_A)\n",
    "        plt.ylabel(\"Magnitude\")\n",
    "        plt.xlabel(\"n\")\n",
    "        if name is not None:\n",
    "            plt.legend([name])\n",
    "        plt.show()\n",
    "        \n",
    "    if draw_p:\n",
    "        plt.figure(figsize=figsize)\n",
    "        plt.title(\"Phase spectrum\")\n",
    "        phi = get_phi_from_spec(spec)\n",
    "        draw_func(phi)\n",
    "        plt.ylabel(\"Radian\")\n",
    "        plt.xlabel(\"n\")\n",
    "        if name is not None:\n",
    "            plt.legend([name])\n",
    "        plt.show()\n",
    "    return "
   ]
  },
  {
   "cell_type": "markdown",
   "metadata": {
    "id": "-zVA0X52akPn"
   },
   "source": [
    "# Задание 2.1 (0.5 балла)\n",
    "Постройте спектры для всех сигналов из коллекции signals и ответьте на вопросы:\n",
    "1. Почему амплитуда всех гармоник единичного импульса равна единице? \n",
    "1. Какие выводы можно сделать смотря на амплитудный спектр? А на фазовый? \n",
    "1. Как перевести номер отсчета в частоту?  \n",
    "1. Что в фазовом спектре является полезной информацией, а что - шумом? Почему?"
   ]
  },
  {
   "cell_type": "code",
   "execution_count": null,
   "metadata": {
    "colab": {
     "base_uri": "https://localhost:8080/",
     "height": 1000
    },
    "id": "2OXB4o4foSma",
    "outputId": "e93208ed-dd18-4465-abb7-5f80da3ad622"
   },
   "outputs": [],
   "source": [
    "for s_name in signals:\n",
    "  print(s_name)\n",
    "  draw_spec(FFT(signals[s_name]))"
   ]
  },
  {
   "cell_type": "markdown",
   "metadata": {
    "id": "KfbkymG3akPn"
   },
   "source": [
    "1. -\n",
    "2. -\n",
    "3. -\n",
    "4. -"
   ]
  },
  {
   "cell_type": "markdown",
   "metadata": {
    "id": "nJ8so4AwakPo"
   },
   "source": [
    "# Оконное преобразование Фурье\n",
    "Преобразование Фурье делает переход из временной области в частотную, позволяя анализировать составляющие сигнал гармоники. Однако это не всегда удобно. В реальных сигналах зачастую составляющие их гармоники изменяются со временем. Например, каждая буква в слове имеет свой набор основных гармоник, и простое преобразование Фурье не сильно поможет нам определить, что было сказано. Для того, чтобы анализировать такие сигналы, обычно используется [Оконное преобразование Фурье](https://ru.wikipedia.org/wiki/Оконное_преобразование_Фурье). Такое преобразование позволяет анализировать гармоники сигнала в коротких промежутках времени и сохранить временную ось при построении спектрограммы.\n",
    "# Задание 3 (2 балла)\n",
    "Реализовать оконное преобразование Фурье, пользуясь только библиотеками numpy и scipy. Сравнить с librosa.stft\n"
   ]
  },
  {
   "cell_type": "code",
   "execution_count": null,
   "metadata": {
    "id": "L2C15FMzakPo"
   },
   "outputs": [],
   "source": [
    "def STFT(x, n_fft=2048, hop_length=512, window='hann'):\n",
    "    #  Short-time Fourier transform\n",
    "    # x - signal\n",
    "    # n_fft - fft window size \n",
    "    # hop_length - step size between ffts\n",
    "    # window - window type. See scipy.signal.get_window\n",
    "    # return spectrogram \n",
    "    \n",
    "    # YOUR CODE HERE\n",
    "\n",
    "    # src = np.pad(x, (hop_length // 2, hop_length // 2), mode='reflect')\n",
    "    # return scipy.signal.stft(src,\n",
    "    #                          nfft=n_fft,\n",
    "    #                          nperseg=hop_length,\n",
    "    #                          noverlap=0, padded=False,\n",
    "    #                          boundary=None,\n",
    "    #                          window=window)[2]\n",
    "#     src = np.pad(x, (hop_length // 2, hop_length // 2), mode='reflect')\n",
    "#     n_windows = src.size // hop_length\n",
    "#     result = None\n",
    "#     for i in range(n_windows):\n",
    "#       t = np.multiply(src[i * hop_length:(i + 1) *  hop_length],\n",
    "#                       scipy.signal.get_window(window, hop_length))\n",
    "#       if result is None:\n",
    "#         result = np.fft.fft(t.T, n_fft)\n",
    "#       else:\n",
    "#         result = np.vstack((result, np.fft.fft(t.T, n_fft)))\n",
    "#     return result.T[:1 + n_fft // 2]\n",
    "\n",
    "#     result = np.empty(\n",
    "#         (int(1 + n_fft // 2), n_windows)\n",
    "#     )\n",
    "\n",
    "    # how many columns can we fit within MAX_MEM_BLOCK?\n",
    "    # n_columns = util.MAX_MEM_BLOCK // (result.shape[0] * stft_matrix.itemsize)\n",
    "    # n_columns = max(n_columns, 1)\n",
    "\n",
    "#     for bl_s in range(0, n_windows, hop_length):\n",
    "#         bl_t = min(bl_s + n_columns, stft_matrix.shape[1])\n",
    "\n",
    "#         stft_matrix[:, bl_s:bl_t] = fft.rfft(\n",
    "#             fft_window * y_frames[:, bl_s:bl_t], axis=0\n",
    "#         )\n",
    "#     return stft_matrix\n",
    "      \n",
    "\n",
    "#     arr = np.reshape(src[:n_windows * hop_length], (-1, hop_length))\n",
    "#     # arr = arr, scipy.signal.get_window(window, hop_length))\n",
    "#     stft = np.fft.rfft(arr, n_fft)\n",
    "#     return stft.T\n",
    "    \n",
    "    #\n",
    "    raise NotImplementedError()\n",
    "    "
   ]
  },
  {
   "cell_type": "code",
   "execution_count": null,
   "metadata": {
    "colab": {
     "base_uri": "https://localhost:8080/",
     "height": 606
    },
    "id": "gV-iGEbvakPp",
    "outputId": "1aee3881-73cf-4277-b50a-47c26fa9e6da"
   },
   "outputs": [],
   "source": [
    "def test_stft(x, n_fft=2048, hop_length=512, window='hann'):\n",
    "    librosa_result = librosa.stft(x, n_fft=n_fft, hop_length=hop_length, window='hann', center=True)\n",
    "    result = STFT(x, n_fft=n_fft, hop_length=hop_length, window='hann')\n",
    "    if librosa_result.shape != result.shape:\n",
    "        print(f\"Your shape {result.shape} != librosa stft shape {librosa_result.shape} \")\n",
    "        return -1 \n",
    "    if not np.allclose(librosa_result, result):\n",
    "        print(f\"Wrong results. Diff {np.abs(librosa_result-result)}\")\n",
    "        return -2\n",
    "    return 0\n",
    "        \n",
    "for name, sig in signals.items():\n",
    "    print(f\"Checking '{name}'\")\n",
    "    for n_fft in (8, 4):\n",
    "        for hop_length in (n_fft//4, n_fft//2):\n",
    "            assert test_stft(sig, n_fft=n_fft, hop_length=hop_length)==0, \\\n",
    "                f\"Test failed. Params n_fft {n_fft}. Hop_length {hop_length}\"\n",
    "    print(\"ok\")\n",
    "print(\"All ok!\")"
   ]
  },
  {
   "cell_type": "code",
   "execution_count": null,
   "metadata": {
    "id": "UtfHCLbSakPp"
   },
   "outputs": [],
   "source": [
    "# Определим функцию для отрисовки\n",
    "def draw_stft(X, sr, figsize=(14, 5)):\n",
    "    plt.figure(figsize=figsize)\n",
    "    # X - комплекстная спектрограмма \n",
    "    # Для получения энергии достаточно взять модуль\n",
    "    Xdb = librosa.amplitude_to_db(abs(X))\n",
    "    librosa.display.specshow(Xdb, sr=sr, x_axis='time', y_axis='hz')\n",
    "    plt.show()"
   ]
  },
  {
   "cell_type": "markdown",
   "metadata": {
    "id": "jG0iJA-9akPq"
   },
   "source": [
    "# Анализ сигналов\n",
    "Теперь можно приступить к анализу звуковых сигналов.\n",
    "Во время анализа сигналов нам понадобятся все определенные выше инструменты. \n"
   ]
  },
  {
   "cell_type": "markdown",
   "metadata": {
    "id": "Yz7VNy6FakPq"
   },
   "source": [
    "----------------------------------\n",
    "## Анализ паровозного гудка\n",
    "Начнем с простого сигнала, состоящего из нескольких основных гармоник и шума."
   ]
  },
  {
   "cell_type": "code",
   "execution_count": null,
   "metadata": {
    "colab": {
     "base_uri": "https://localhost:8080/",
     "height": 497
    },
    "id": "_wbU96m0akPq",
    "outputId": "b3568f77-1d37-4059-971f-b6843e79d22f"
   },
   "outputs": [],
   "source": [
    "# Загрузим аудио файл с паровозным гудком\n",
    "train_whistle, tw_sr = librosa.core.load(\"resources/train_whistle.wav\")\n",
    "print(f\"Len is {len(train_whistle)} ( ). Sample rate is {tw_sr}\")\n",
    "player = ipd.Audio(train_whistle, rate=tw_sr)\n",
    "ipd.display(player)\n",
    "draw_waveform(train_whistle, sr=tw_sr)"
   ]
  },
  {
   "cell_type": "code",
   "execution_count": null,
   "metadata": {
    "id": "g70NEZdDakPr"
   },
   "outputs": [],
   "source": [
    "train_whistle_spec = scipy.fft.fft(train_whistle)\n",
    "print(\"Гудок паровоза в частотной области\")\n",
    "draw_spec(train_whistle_spec, draw_p=False, figsize=(15,5))"
   ]
  },
  {
   "cell_type": "markdown",
   "metadata": {
    "id": "YWvB6r3XakPr"
   },
   "source": [
    "# Задание 4 (2 балла)\n",
    "Определите 3 основные гармоники паровозного гудка.\n",
    "\n",
    "Ответ округлите до двух знаков после запятой.\n"
   ]
  },
  {
   "cell_type": "code",
   "execution_count": null,
   "metadata": {
    "id": "9bRnrnDOakPr"
   },
   "outputs": [],
   "source": [
    "# YOUR CODE HERE\n",
    "# task_answer = [ freq1, freq2, freq3 ] \n",
    "k_ = [1885, 2183, 2785]\n",
    "N_ = 82175\n",
    "fd_ = 22050\n",
    "task_answer = [fd_ * k__ / N_ for k__ in k_]\n",
    "print(task_answer)"
   ]
  },
  {
   "cell_type": "code",
   "execution_count": null,
   "metadata": {
    "id": "xgT5QhkvakPr"
   },
   "outputs": [],
   "source": [
    "assert type(task_answer) == list or type(task_answer) == np.ndarray, \\\n",
    "        f\"Wrong answer type. Expected list or numpy array. Got {type(task_answer)}\"\n",
    "assert len(task_answer) == 3, \\\n",
    "        f\"Wrong len {len(task_answer)}.\"\n",
    "assert (round(sum(task_answer)) == 1677 and round(np.var(task_answer)) == 1407) or \\\n",
    "        (abs(sum(task_answer)  - 1836) <= 3 and abs(np.var(task_answer) - 10153) <= 181), \\\n",
    "        f\"Wrong freqs\"\n",
    "print(\"Correct!\")       "
   ]
  },
  {
   "cell_type": "markdown",
   "metadata": {
    "id": "C4NSPsokakPs"
   },
   "source": [
    "Теперь попробуйте сгенерировать сигнал, состоящий только из этих гармоник. Воспроизведите сигнал."
   ]
  },
  {
   "cell_type": "code",
   "execution_count": null,
   "metadata": {
    "id": "QX8oi9y9akPs"
   },
   "outputs": [],
   "source": [
    "#YOUR CODE HERE\n",
    "phi_k = 0\n",
    "A_ = train_whistle_spec[k__]\n",
    "result = np.sum([A_ * np.exp(1j*(2 * np.pi / N_ * k__ * np.arange(N_) + phi_k)) for k__ in k_], axis=0)\n",
    "player = ipd.Audio(result, rate=tw_sr)\n",
    "ipd.display(player)\n",
    "#"
   ]
  },
  {
   "cell_type": "markdown",
   "metadata": {
    "id": "zsTlwjFzakPs"
   },
   "source": [
    "# Анализ двухтонального многочастотного сигнала\n",
    "Теперь расмотрим более сложный сигнал - [DTMF](https://en.wikipedia.org/wiki/Dual-tone_multi-frequency_signaling). Такие сигналы используются для автоматизации набора телефонного номера. "
   ]
  },
  {
   "cell_type": "markdown",
   "metadata": {
    "id": "_gZdnCXYakPs"
   },
   "source": [
    "# Задание 5 (2 балла)\n",
    "В данном аудио закодирован трехзначный номер. Используя таблицу с [wiki]:(https://ru.wikipedia.org/wiki/DTMF) определите, что за номер закодирован.\n"
   ]
  },
  {
   "cell_type": "code",
   "execution_count": null,
   "metadata": {
    "id": "GtWfHudpakPs"
   },
   "outputs": [],
   "source": [
    "#dtmf.wav\n",
    "dtmf, dtmf_sr = librosa.core.load(\"resources/dtmf.wav\")\n",
    "print(f\"Len is {len(dtmf)}. Sample rate is {dtmf_sr}\")\n",
    "player = ipd.Audio(dtmf, rate=dtmf_sr)\n",
    "ipd.display(player)\n",
    "draw_waveform(dtmf, sr=dtmf_sr)"
   ]
  },
  {
   "cell_type": "code",
   "execution_count": null,
   "metadata": {
    "id": "wZ7zOB-sakPs"
   },
   "outputs": [],
   "source": [
    "# YOUR CODE HERE\n",
    "# phone_number = [first: int, second: int, third: int]\n",
    "\n",
    "intervals = [dtmf[:len(dtmf) // 3], dtmf[len(dtmf) // 3:-len(dtmf) // 3], dtmf[-len(dtmf) // 3:]]\n",
    "\n",
    "ft = [scipy.fft.fft(i) for i in intervals]\n",
    "\n",
    "k_ = [2561, 4443, 2830, 4910, 3131, 5428]\n",
    "N_ = 243102 // 3\n",
    "fd_ = 22050\n",
    "task_answer = [fd_ * k__ / N_ for k__ in k_]\n",
    "print(task_answer)\n",
    "phone_number = [1, 5, 9]"
   ]
  },
  {
   "cell_type": "code",
   "execution_count": null,
   "metadata": {
    "id": "yvXf2UjmakPs"
   },
   "outputs": [],
   "source": [
    "assert type(phone_number) == list or type(phone_number) == np.ndarray, \\\n",
    "        f\"Wrong answer type. Expected list or numpy array. Got {type(phone_number)}\"\n",
    "assert len(phone_number) == 3, \\\n",
    "        f\"Wrong len {len(phone_number)}.\"\n",
    "assert round(np.mean(phone_number)) == 5 and round(np.var(phone_number)) == 11 , \\\n",
    "        f\"Wrong number\"\n",
    "assert hashlib.md5(''.join(map(str, phone_number)).encode()).hexdigest() == \"140f6969d5213fd0ece03148e62e461e\", \\\n",
    "        f\"Wrong hash. How did you pass mean/var test?\"\n",
    "print(\"Correct!\")   "
   ]
  },
  {
   "cell_type": "code",
   "execution_count": null,
   "metadata": {},
   "outputs": [],
   "source": []
  }
 ],
 "metadata": {
  "colab": {
   "collapsed_sections": [],
   "name": "Копия блокнота \"lab2.ipynb\"",
   "provenance": []
  },
  "kernelspec": {
   "display_name": "Python 3",
   "language": "python",
   "name": "python3"
  },
  "language_info": {
   "codemirror_mode": {
    "name": "ipython",
    "version": 3
   },
   "file_extension": ".py",
   "mimetype": "text/x-python",
   "name": "python",
   "nbconvert_exporter": "python",
   "pygments_lexer": "ipython3",
   "version": "3.8.3"
  }
 },
 "nbformat": 4,
 "nbformat_minor": 1
}
